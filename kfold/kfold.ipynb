{
 "cells": [
  {
   "cell_type": "code",
   "execution_count": 1,
   "id": "c34be440",
   "metadata": {},
   "outputs": [],
   "source": [
    "import os\n",
    "import random\n",
    "import pandas as pd\n",
    "from sklearn.model_selection import KFold"
   ]
  },
  {
   "cell_type": "code",
   "execution_count": 2,
   "id": "f7fff4db",
   "metadata": {},
   "outputs": [],
   "source": [
    "allData = pd.read_csv('../dataset/output/xlsum_indonesia.csv')"
   ]
  },
  {
   "cell_type": "code",
   "execution_count": 3,
   "id": "2bd709b6",
   "metadata": {},
   "outputs": [
    {
     "name": "stdout",
     "output_type": "stream",
     "text": [
      "Random number for fold 1: 140892\n",
      "Fold #1, Training Size: 38241 (80.0%), Validation Size: 4781 (10.0%), Test Size: 4780 (10.0%)\n",
      "Random number for fold 2: 1810073\n",
      "Fold #2, Training Size: 38241 (80.0%), Validation Size: 4781 (10.0%), Test Size: 4780 (10.0%)\n",
      "Random number for fold 3: 998098\n",
      "Fold #3, Training Size: 38242 (80.0%), Validation Size: 4780 (10.0%), Test Size: 4780 (10.0%)\n",
      "Random number for fold 4: 990061\n",
      "Fold #4, Training Size: 38242 (80.0%), Validation Size: 4780 (10.0%), Test Size: 4780 (10.0%)\n",
      "Random number for fold 5: 2142833\n",
      "Fold #5, Training Size: 38242 (80.0%), Validation Size: 4780 (10.0%), Test Size: 4780 (10.0%)\n"
     ]
    }
   ],
   "source": [
    "# Menggunakan K-Fold k=5\n",
    "kf = KFold(n_splits=5, shuffle=True, random_state=42) \n",
    "fold = 1\n",
    "\n",
    "for train_index, validate_index in kf.split(allData):\n",
    "\n",
    "    # Ambil data untuk lipatan saat ini\n",
    "    trainDF = pd.DataFrame(allData.iloc[train_index])  # 80% data (training)\n",
    "    validateDF = pd.DataFrame(allData.iloc[validate_index])  # 20% data (val + test)\n",
    "\n",
    "    # Bagi validateDF menjadi validation (10%) dan test (10%)\n",
    "    random.seed(fold)\n",
    "    number = random.randint(1*fold, 1000000*fold)\n",
    "    print(f\"Random number for fold {fold}: {number}\")\n",
    "    testDF = validateDF.sample(frac=0.5, random_state=number)  # 50% dari 20% = 10% total\n",
    "    valDF = validateDF[~validateDF.index.isin(testDF.index)]   # Sisanya = 10% total, mengambil data dari validateDF yang indexnya tidak ada di testDF\n",
    "\n",
    "    \n",
    "    print(f\"Fold #{fold}, Training Size: {len(trainDF)} ({len(trainDF)/len(allData)*100:.1f}%), \"\n",
    "          f\"Validation Size: {len(valDF)} ({len(valDF)/len(allData)*100:.1f}%), \"\n",
    "          f\"Test Size: {len(testDF)} ({len(testDF)/len(allData)*100:.1f}%)\")\n",
    "\n",
    "    # Simpan ke file CSV\n",
    "    trainDF.to_csv(f\"output/train_fold{fold}.csv\", index=False, encoding='utf-8')\n",
    "    valDF.to_csv(f\"output/val_fold{fold}.csv\", index=False, encoding='utf-8')\n",
    "    testDF.to_csv(f\"output/test_fold{fold}.csv\", index=False, encoding='utf-8')\n",
    "\n",
    "    fold += 1"
   ]
  }
 ],
 "metadata": {
  "kernelspec": {
   "display_name": "skripsi",
   "language": "python",
   "name": "python3"
  },
  "language_info": {
   "codemirror_mode": {
    "name": "ipython",
    "version": 3
   },
   "file_extension": ".py",
   "mimetype": "text/x-python",
   "name": "python",
   "nbconvert_exporter": "python",
   "pygments_lexer": "ipython3",
   "version": "3.9.19"
  }
 },
 "nbformat": 4,
 "nbformat_minor": 5
}
